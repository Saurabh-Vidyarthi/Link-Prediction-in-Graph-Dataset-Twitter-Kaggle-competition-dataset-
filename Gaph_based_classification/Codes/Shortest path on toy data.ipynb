{
 "cells": [
  {
   "cell_type": "code",
   "execution_count": 1,
   "id": "d9c860a9",
   "metadata": {},
   "outputs": [],
   "source": [
    "import networkx as nx\n"
   ]
  },
  {
   "cell_type": "code",
   "execution_count": 2,
   "id": "578f80af",
   "metadata": {},
   "outputs": [],
   "source": [
    "G = nx.DiGraph()\n",
    "G.add_edge('A', 'B', weight=3)\n",
    "G.add_edge('B', 'C', weight=2)"
   ]
  },
  {
   "cell_type": "code",
   "execution_count": 3,
   "id": "286ffeb0",
   "metadata": {},
   "outputs": [],
   "source": [
    "source_node = 'A'\n",
    "target_node = 'C'\n",
    "\n",
    "shortest_path = nx.shortest_path(G, source=source_node, target=target_node, weight='weight')"
   ]
  },
  {
   "cell_type": "code",
   "execution_count": 4,
   "id": "16900bed",
   "metadata": {},
   "outputs": [],
   "source": [
    "shortest_path_length = nx.shortest_path_length(G, source=source_node, target=target_node, weight='weight')"
   ]
  },
  {
   "cell_type": "code",
   "execution_count": 5,
   "id": "10677514",
   "metadata": {},
   "outputs": [
    {
     "name": "stdout",
     "output_type": "stream",
     "text": [
      "Shortest Path: ['A', 'B', 'C']\n",
      "Shortest Path Length: 5\n"
     ]
    }
   ],
   "source": [
    "print(\"Shortest Path:\", shortest_path)\n",
    "print(\"Shortest Path Length:\", shortest_path_length)"
   ]
  },
  {
   "cell_type": "code",
   "execution_count": 9,
   "id": "b70bce7c",
   "metadata": {},
   "outputs": [],
   "source": [
    "import pandas as pd\n",
    "import networkx as nx\n",
    "\n",
    "# Create an example DataFrame with integer user IDs (replace this with your actual DataFrame)\n",
    "data = {'source': [1,1,2,3,4,4],\n",
    "        'destination': [2,4,3,4,5,1]}\n",
    "df = pd.DataFrame(data)\n",
    "\n",
    "\n"
   ]
  },
  {
   "cell_type": "code",
   "execution_count": 11,
   "id": "46933dd2",
   "metadata": {},
   "outputs": [
    {
     "data": {
      "text/html": [
       "<div>\n",
       "<style scoped>\n",
       "    .dataframe tbody tr th:only-of-type {\n",
       "        vertical-align: middle;\n",
       "    }\n",
       "\n",
       "    .dataframe tbody tr th {\n",
       "        vertical-align: top;\n",
       "    }\n",
       "\n",
       "    .dataframe thead th {\n",
       "        text-align: right;\n",
       "    }\n",
       "</style>\n",
       "<table border=\"1\" class=\"dataframe\">\n",
       "  <thead>\n",
       "    <tr style=\"text-align: right;\">\n",
       "      <th></th>\n",
       "      <th>source</th>\n",
       "      <th>destination</th>\n",
       "    </tr>\n",
       "  </thead>\n",
       "  <tbody>\n",
       "    <tr>\n",
       "      <th>0</th>\n",
       "      <td>1</td>\n",
       "      <td>4</td>\n",
       "    </tr>\n",
       "    <tr>\n",
       "      <th>1</th>\n",
       "      <td>5</td>\n",
       "      <td>4</td>\n",
       "    </tr>\n",
       "    <tr>\n",
       "      <th>2</th>\n",
       "      <td>2</td>\n",
       "      <td>5</td>\n",
       "    </tr>\n",
       "  </tbody>\n",
       "</table>\n",
       "</div>"
      ],
      "text/plain": [
       "   source  destination\n",
       "0       1            4\n",
       "1       5            4\n",
       "2       2            5"
      ]
     },
     "execution_count": 11,
     "metadata": {},
     "output_type": "execute_result"
    }
   ],
   "source": [
    "data_1 = {'source': [1,5,2],\n",
    "        'destination': [4,4,5]}\n",
    "tf = pd.DataFrame(data_1)\n",
    "tf"
   ]
  },
  {
   "cell_type": "code",
   "execution_count": 10,
   "id": "99569e07",
   "metadata": {},
   "outputs": [
    {
     "data": {
      "text/html": [
       "<div>\n",
       "<style scoped>\n",
       "    .dataframe tbody tr th:only-of-type {\n",
       "        vertical-align: middle;\n",
       "    }\n",
       "\n",
       "    .dataframe tbody tr th {\n",
       "        vertical-align: top;\n",
       "    }\n",
       "\n",
       "    .dataframe thead th {\n",
       "        text-align: right;\n",
       "    }\n",
       "</style>\n",
       "<table border=\"1\" class=\"dataframe\">\n",
       "  <thead>\n",
       "    <tr style=\"text-align: right;\">\n",
       "      <th></th>\n",
       "      <th>source</th>\n",
       "      <th>destination</th>\n",
       "    </tr>\n",
       "  </thead>\n",
       "  <tbody>\n",
       "    <tr>\n",
       "      <th>0</th>\n",
       "      <td>1</td>\n",
       "      <td>2</td>\n",
       "    </tr>\n",
       "    <tr>\n",
       "      <th>1</th>\n",
       "      <td>1</td>\n",
       "      <td>4</td>\n",
       "    </tr>\n",
       "    <tr>\n",
       "      <th>2</th>\n",
       "      <td>2</td>\n",
       "      <td>3</td>\n",
       "    </tr>\n",
       "    <tr>\n",
       "      <th>3</th>\n",
       "      <td>3</td>\n",
       "      <td>4</td>\n",
       "    </tr>\n",
       "    <tr>\n",
       "      <th>4</th>\n",
       "      <td>4</td>\n",
       "      <td>5</td>\n",
       "    </tr>\n",
       "    <tr>\n",
       "      <th>5</th>\n",
       "      <td>4</td>\n",
       "      <td>1</td>\n",
       "    </tr>\n",
       "  </tbody>\n",
       "</table>\n",
       "</div>"
      ],
      "text/plain": [
       "   source  destination\n",
       "0       1            2\n",
       "1       1            4\n",
       "2       2            3\n",
       "3       3            4\n",
       "4       4            5\n",
       "5       4            1"
      ]
     },
     "execution_count": 10,
     "metadata": {},
     "output_type": "execute_result"
    }
   ],
   "source": [
    "df"
   ]
  },
  {
   "cell_type": "code",
   "execution_count": 14,
   "id": "f3074dfe",
   "metadata": {},
   "outputs": [
    {
     "name": "stdout",
     "output_type": "stream",
     "text": [
      "   source  destination  shortest_path_length\n",
      "0       1            4                   1.0\n",
      "1       5            4               10000.0\n",
      "2       2            5                   3.0\n"
     ]
    }
   ],
   "source": [
    "# Create a directed graph (replace this with your actual graph)\n",
    "\n",
    "G = nx.DiGraph()\n",
    "\n",
    "for _, row in df.iterrows():\n",
    "    G.add_edge(row['source'], row['destination'])\n",
    "\n",
    "\n",
    "\n",
    "# Function to calculate shortest path length\n",
    "def calculate_shortest_path_length(row):\n",
    "    source_node = row['source']\n",
    "    target_node = row['destination']\n",
    "    \n",
    "    try:\n",
    "        shortest_path_length = nx.shortest_path_length(G, source=source_node, target=target_node)\n",
    "        return shortest_path_length\n",
    "    except nx.NetworkXNoPath:\n",
    "        return float(10000.0)  # Return infinity if no path exists\n",
    "\n",
    "# Apply the function to each row in the DataFrame and append the results as a new column\n",
    "tf['shortest_path_length'] = tf.apply(calculate_shortest_path_length, axis=1)\n",
    "\n",
    "# Display the updated DataFrame\n",
    "print(tf)"
   ]
  },
  {
   "cell_type": "code",
   "execution_count": null,
   "id": "347fd36d",
   "metadata": {},
   "outputs": [],
   "source": []
  }
 ],
 "metadata": {
  "kernelspec": {
   "display_name": "Python 3 (ipykernel)",
   "language": "python",
   "name": "python3"
  },
  "language_info": {
   "codemirror_mode": {
    "name": "ipython",
    "version": 3
   },
   "file_extension": ".py",
   "mimetype": "text/x-python",
   "name": "python",
   "nbconvert_exporter": "python",
   "pygments_lexer": "ipython3",
   "version": "3.10.9"
  }
 },
 "nbformat": 4,
 "nbformat_minor": 5
}
